{
  "nbformat": 4,
  "nbformat_minor": 0,
  "metadata": {
    "colab": {
      "provenance": [],
      "include_colab_link": true
    },
    "kernelspec": {
      "name": "python3",
      "display_name": "Python 3"
    },
    "language_info": {
      "name": "python"
    }
  },
  "cells": [
    {
      "cell_type": "markdown",
      "metadata": {
        "id": "view-in-github",
        "colab_type": "text"
      },
      "source": [
        "<a href=\"https://colab.research.google.com/github/ykumar2020/-ykumar2020-Csharp22SP-ykumar/blob/main/HW1.ipynb\" target=\"_parent\"><img src=\"https://colab.research.google.com/assets/colab-badge.svg\" alt=\"Open In Colab\"/></a>"
      ]
    },
    {
      "cell_type": "markdown",
      "source": [
        "# **HW #1: Decision Making and Loops**\n",
        "---"
      ],
      "metadata": {
        "id": "K3JVwUgVElwe"
      }
    },
    {
      "cell_type": "markdown",
      "source": [
        "#### **Problem #1.1** : add the integers 3 and 12."
      ],
      "metadata": {
        "id": "Nkrwij4gSu0h"
      }
    },
    {
      "cell_type": "code",
      "source": [
        "3 + # COMPLETE THIS CODE"
      ],
      "metadata": {
        "id": "rwGjkCmrT8cp"
      },
      "execution_count": null,
      "outputs": []
    },
    {
      "cell_type": "markdown",
      "source": [
        "#### **Problem #1.2** : Subtract 100.5 from 250.75."
      ],
      "metadata": {
        "id": "TMg9xuU4bGXO"
      }
    },
    {
      "cell_type": "code",
      "source": [
        "250.75 - # COMPLETE THIS CODE"
      ],
      "metadata": {
        "id": "gxuz6DBtbS4b"
      },
      "execution_count": null,
      "outputs": []
    },
    {
      "cell_type": "markdown",
      "source": [
        "#### **Problem #1.3** : multiply 15.0 and 10.0."
      ],
      "metadata": {
        "id": "AoNyZMOLbHzG"
      }
    },
    {
      "cell_type": "code",
      "source": [
        "15.0 * # COMPLETE THIS CODE"
      ],
      "metadata": {
        "id": "2qLvU5ArbX9e"
      },
      "execution_count": null,
      "outputs": []
    },
    {
      "cell_type": "markdown",
      "source": [
        "#### **Problem #1.4** : divide 500 by 20.\n"
      ],
      "metadata": {
        "id": "MAhg9IhNbIW9"
      }
    },
    {
      "cell_type": "code",
      "source": [
        "# COMPLETE THIS CODE"
      ],
      "metadata": {
        "id": "vQouy4o_brEN"
      },
      "execution_count": null,
      "outputs": []
    },
    {
      "cell_type": "markdown",
      "source": [
        "#### **Problem #1.5** : add 13.4 and 27.6."
      ],
      "metadata": {
        "id": "bAfEeCA5gwqX"
      }
    },
    {
      "cell_type": "code",
      "source": [
        "# COMPLETE THIS CODE"
      ],
      "metadata": {
        "id": "nlNB4BF_jsEt"
      },
      "execution_count": null,
      "outputs": []
    },
    {
      "cell_type": "markdown",
      "source": [
        "#### **Problem #1.6** : multiply 1000.5 and 3000."
      ],
      "metadata": {
        "id": "d_U6ur7jgxTk"
      }
    },
    {
      "cell_type": "code",
      "source": [
        "# COMPLETE THIS CODE"
      ],
      "metadata": {
        "id": "i3mHYwJaj02C"
      },
      "execution_count": null,
      "outputs": []
    },
    {
      "cell_type": "markdown",
      "source": [
        "#### **Problem #1.7** : divide 500.5 by 25."
      ],
      "metadata": {
        "id": "JbFm4hjKgxfX"
      }
    },
    {
      "cell_type": "code",
      "source": [
        "# COMPLETE THIS CODE"
      ],
      "metadata": {
        "id": "NCZtaMI1jF4r"
      },
      "execution_count": null,
      "outputs": []
    },
    {
      "cell_type": "markdown",
      "source": [
        "#### **Problem #2.1** : let's create a variable called gpt_version and assign a string to it with the current version of GPT you are using.\n",
        "\n",
        "<br>\n",
        "\n",
        "**NOTE**: We will output the variable's value by writing the name of the variable on a line of its own."
      ],
      "metadata": {
        "id": "6tp4GH_pFiXc"
      }
    },
    {
      "cell_type": "code",
      "source": [
        "gpt_version = \"# COMPLETE THIS CODE\"\n",
        "gpt_version"
      ],
      "metadata": {
        "id": "dIcO-GzF7jnH",
        "colab": {
          "base_uri": "https://localhost:8080/",
          "height": 35
        },
        "outputId": "822df945-1852-493f-ba02-dfc7562d1891"
      },
      "execution_count": null,
      "outputs": [
        {
          "output_type": "execute_result",
          "data": {
            "text/plain": [
              "'# COMPLETE THIS CODE'"
            ],
            "application/vnd.google.colaboratory.intrinsic+json": {
              "type": "string"
            }
          },
          "metadata": {},
          "execution_count": 41
        }
      ]
    },
    {
      "cell_type": "markdown",
      "source": [
        "#### **Problem #2.2** : let's create and name a variable with the number of parameters in GPT-3 as an integer (175 billion). Output its value."
      ],
      "metadata": {
        "id": "GeA492pRF9Et"
      }
    },
    {
      "cell_type": "code",
      "source": [
        "# COMPLETE THIS CODE"
      ],
      "metadata": {
        "id": "BcaGXsBo7qys"
      },
      "execution_count": null,
      "outputs": []
    },
    {
      "cell_type": "markdown",
      "source": [
        "#### **Problem #2.3**: look through the given declarations and determine which ones are incorrect.\n",
        "\n",
        "a. model_version = 3.5\n",
        "\n",
        "b. Model4 = \"GPT-4\"\n",
        "\n",
        "c. 2model = \"GPT-2\"\n",
        "\n",
        "d. first_last_name = \"john_doe\"\n",
        "\n",
        "e. Hello! = 0.283\n",
        "\n",
        "f. variable_24 = \"OpenAI\"\n",
        "\n",
        "g. str = \"string\""
      ],
      "metadata": {
        "id": "PFzpApaisZj3"
      }
    },
    {
      "cell_type": "markdown",
      "source": [
        "**Double Click This Cell To Enter Your Answer(s)**"
      ],
      "metadata": {
        "id": "89W-6XfL8bnJ"
      }
    },
    {
      "cell_type": "markdown",
      "source": [
        "#### **Problem #3.1**: let's use a for loop to print the numbers from 1 to 5."
      ],
      "metadata": {
        "id": "ApCmfZIh-ecP"
      }
    },
    {
      "cell_type": "code",
      "source": [
        "for i in range(1, 6):\n",
        "    # COMPLETE THIS CODE"
      ],
      "metadata": {
        "id": "_TvLwwZv-ecQ"
      },
      "execution_count": null,
      "outputs": []
    },
    {
      "cell_type": "markdown",
      "source": [
        "#### **Problem #3.2**: let's use a while loop to print the numbers from 5 to 1."
      ],
      "metadata": {
        "id": "rHWtdxaXPOrK"
      }
    },
    {
      "cell_type": "code",
      "source": [
        "i = 5\n",
        "while i > 0:\n",
        "    # COMPLETE THIS CODE"
      ],
      "metadata": {
        "id": "sRqUoXp-PjJG"
      },
      "execution_count": null,
      "outputs": []
    },
    {
      "cell_type": "markdown",
      "source": [
        "#### **Problem #3.3**: let's create a list of integers and use a for loop to find the sum of all the numbers in the list."
      ],
      "metadata": {
        "id": "ZuO22Rx-knbR"
      }
    },
    {
      "cell_type": "code",
      "source": [
        "numbers = [1, 2, 3, 4, 5]\n",
        "total = 0\n",
        "for number in numbers:\n",
        "    # COMPLETE THIS CODE\n",
        "print(total)"
      ],
      "metadata": {
        "id": "aaa1mwF0knbe"
      },
      "execution_count": null,
      "outputs": []
    },
    {
      "cell_type": "markdown",
      "source": [
        "#### **Problem #3.4**: use a for loop to print each character in the string \"ChatGPT\"."
      ],
      "metadata": {
        "id": "nU_fifgR7jM5"
      }
    },
    {
      "cell_type": "code",
      "source": [
        "# COMPLETE THIS CODE"
      ],
      "metadata": {
        "id": "gciUmz8i7jNN"
      },
      "execution_count": null,
      "outputs": []
    },
    {
      "cell_type": "markdown",
      "source": [
        "#### **Problem #3.5**: use a while loop to print the numbers from 10 down to 1."
      ],
      "metadata": {
        "id": "u0vQg1AM8qDU"
      }
    },
    {
      "cell_type": "code",
      "source": [
        "# COMPLETE THIS CODE"
      ],
      "metadata": {
        "id": "8mauoKut8qDt"
      },
      "execution_count": null,
      "outputs": []
    },
    {
      "cell_type": "markdown",
      "source": [
        "#### **Problem #3.6**: let's define a function called greet that takes a name as an argument and returns a greeting message."
      ],
      "metadata": {
        "id": "RE9FToJzAqOc"
      }
    },
    {
      "cell_type": "code",
      "source": [
        "def greet(name):\n",
        "    return \"Hello, \" + # COMPLETE THIS CODE"
      ],
      "metadata": {
        "id": "7kfw5iyWA2a3"
      },
      "execution_count": null,
      "outputs": []
    },
    {
      "cell_type": "markdown",
      "source": [
        "#### **Problem #3.7**: let's define a function called add_numbers that takes two numbers as arguments and returns their sum."
      ],
      "metadata": {
        "id": "AQ_Z2Ct9_QG9"
      }
    },
    {
      "cell_type": "code",
      "source": [
        "def add_numbers(a, b):\n",
        "    return a + # COMPLETE THIS CODE"
      ],
      "metadata": {
        "id": "LJdSVbcc_eeF"
      },
      "execution_count": null,
      "outputs": []
    },
    {
      "cell_type": "markdown",
      "source": [
        "#### **Problem #3.8**: let's define a function called is_even that takes a number as an argument and returns True if the number is even, and False otherwise."
      ],
      "metadata": {
        "id": "NfApuJeDC6Ht"
      }
    },
    {
      "cell_type": "code",
      "source": [
        "def is_even(number):\n",
        "    return number % 2 == # COMPLETE THIS CODE"
      ],
      "metadata": {
        "id": "NF2e5jYVDSh3"
      },
      "execution_count": null,
      "outputs": []
    },
    {
      "cell_type": "markdown",
      "source": [
        "#### **Problem #3.9**: let's define a function called multiply_numbers that takes two numbers as arguments and returns their product.*italicized text*"
      ],
      "metadata": {
        "id": "hiYx4gun-LtC"
      }
    },
    {
      "cell_type": "code",
      "source": [
        "# COMPLETE THIS CODE"
      ],
      "metadata": {
        "id": "7xvp4wRJEavz"
      },
      "execution_count": null,
      "outputs": []
    },
    {
      "cell_type": "markdown",
      "source": [
        "#### **Problem #3.10**: let's define a function called count_vowels that takes a string as an argument and returns the number of vowels in the string."
      ],
      "metadata": {
        "id": "TZ7cNtOL-OUq"
      }
    },
    {
      "cell_type": "code",
      "source": [
        "# COMPLETE THIS CODE"
      ],
      "metadata": {
        "id": "ik32NRnZEbFV"
      },
      "execution_count": null,
      "outputs": []
    },
    {
      "cell_type": "markdown",
      "source": [
        "Below is the examples with a list/array in Python"
      ],
      "metadata": {
        "id": "E2Gv66r1_9ZA"
      }
    },
    {
      "cell_type": "code",
      "source": [
        "numbers = [1, 2, 3, 4, 5]\n",
        "numbers.append(6) #6 is added\n",
        "numbers.remove(2) #2 was removed\n",
        "print(numbers)"
      ],
      "metadata": {
        "id": "5FXxhM1Y_zWD"
      },
      "execution_count": null,
      "outputs": []
    },
    {
      "cell_type": "markdown",
      "source": [
        "#### **Problem #4.1.** :  let's define a function called find_max that takes a list of numbers as an argument and returns the largest number in the list using a for loop."
      ],
      "metadata": {
        "id": "3UHFE0F-r_AY"
      }
    },
    {
      "cell_type": "code",
      "source": [
        "def find_max(numbers):\n",
        "    max_number = numbers[0]\n",
        "    for number in numbers:\n",
        "        if number > max_number:\n",
        "            max_number = number\n",
        "    return max_number\n",
        "\n",
        "# Test the function\n",
        "numbers = [1, 5, 3, 9, 2]\n",
        "print(find_max(numbers))  # Should print 9"
      ],
      "metadata": {
        "id": "0gTl9x12r_AZ"
      },
      "execution_count": null,
      "outputs": []
    },
    {
      "cell_type": "markdown",
      "source": [
        "#### **Problem #4.2** : let's define a function called find_min that takes a list of numbers as an argument and returns the smallest number in the list using a for loop."
      ],
      "metadata": {
        "id": "-Op2trMwsNTO"
      }
    },
    {
      "cell_type": "code",
      "source": [
        "def find_min(numbers):\n",
        "    # COMPLETE THIS CODE\n",
        "\n",
        "# Test the function\n",
        "numbers = [1, 5, 3, 9, 2]\n",
        "print(find_min(numbers))  # Should print 1"
      ],
      "metadata": {
        "id": "X26gHNizAijm"
      },
      "execution_count": null,
      "outputs": []
    },
    {
      "cell_type": "markdown",
      "source": [
        "#### **Problem #4.3**: let's define a function called calculate_average that takes a list of numbers as an argument and returns the average of the numbers."
      ],
      "metadata": {
        "id": "Fn-MmuBT6dzZ"
      }
    },
    {
      "cell_type": "code",
      "source": [
        "def calculate_average(numbers):\n",
        "    # COMPLETE THIS CODE\n",
        "\n",
        "# Test the function\n",
        "numbers = [1, 5, 3, 9, 2]\n",
        "print(calculate_average(numbers))  # Should print 4.0"
      ],
      "metadata": {
        "id": "iszC3Nln2wkT"
      },
      "execution_count": null,
      "outputs": []
    },
    {
      "cell_type": "markdown",
      "source": [
        "#### **Problem #4.4**: define a function called count_even_numbers that takes a list of numbers as an argument and returns the count of even numbers in the list."
      ],
      "metadata": {
        "id": "B51rkpDd9KdP"
      }
    },
    {
      "cell_type": "code",
      "source": [
        "# COMPLETE THIS CODE"
      ],
      "metadata": {
        "id": "ffXS2vaE7b7S"
      },
      "execution_count": null,
      "outputs": []
    },
    {
      "cell_type": "markdown",
      "source": [
        "#### **Problem #4.5**: define a function called count_odd_numbers that takes a list of numbers as an argument and returns the count of odd numbers in the list."
      ],
      "metadata": {
        "id": "nCy0pue79_rA"
      }
    },
    {
      "cell_type": "code",
      "source": [
        "# COMPLETE THIS CODE"
      ],
      "metadata": {
        "id": "ewY0mWW391qb"
      },
      "execution_count": null,
      "outputs": []
    },
    {
      "cell_type": "markdown",
      "source": [
        "#### **Problem #4.6**: define a function called find_sum_of_squares that takes a list of numbers as an argument and returns the sum of the squares of the numbers."
      ],
      "metadata": {
        "id": "9YYUG7us_YLw"
      }
    },
    {
      "cell_type": "code",
      "source": [
        "# COMPLETE CODE"
      ],
      "metadata": {
        "id": "R52FGssZAAEA"
      },
      "execution_count": null,
      "outputs": []
    },
    {
      "cell_type": "markdown",
      "source": [
        "#### **Problem #4.7** : let's create a function called check_positive that takes a number as an argument and returns True if the number is positive, and False otherwise."
      ],
      "metadata": {
        "id": "yuW5cDWgAj03"
      }
    },
    {
      "cell_type": "code",
      "source": [
        "def check_positive(number):\n",
        "    return number > 0\n",
        "\n",
        "# Test the function\n",
        "print(check_positive(5))  # Should print True\n",
        "print(check_positive(-3))  # Should print False"
      ],
      "metadata": {
        "id": "Hm_lqzKjAPt-",
        "colab": {
          "base_uri": "https://localhost:8080/"
        },
        "outputId": "7fe0da90-c4cc-4463-afab-695f9ace425d"
      },
      "execution_count": null,
      "outputs": [
        {
          "output_type": "stream",
          "name": "stdout",
          "text": [
            "True\n",
            "False\n"
          ]
        }
      ]
    },
    {
      "cell_type": "markdown",
      "source": [
        "#### **Problem #4.8**: create a function called check_negative that takes a number as an argument and returns True if the number is negative, and False otherwise."
      ],
      "metadata": {
        "id": "DJYgxQ2hGN9U"
      }
    },
    {
      "cell_type": "code",
      "source": [
        "def check_negative(number):\n",
        "    # COMPLETE CODE\n",
        "\n",
        "# Test the function\n",
        "print(check_negative(-5))  # Should print True\n",
        "print(check_negative(3))  # Should print False"
      ],
      "metadata": {
        "id": "RA-PHpSHGMOR"
      },
      "execution_count": null,
      "outputs": []
    },
    {
      "cell_type": "markdown",
      "source": [
        "#### **Problem #4.9**: create a function called check_divisible that takes two numbers as arguments and returns True if the first number is divisible by the second, and False otherwise."
      ],
      "metadata": {
        "id": "qBRQlNdAIoMM"
      }
    },
    {
      "cell_type": "code",
      "source": [
        "# COMPLETE THIS CODE"
      ],
      "metadata": {
        "id": "Zw0EixWuIhyv"
      },
      "execution_count": null,
      "outputs": []
    },
    {
      "cell_type": "markdown",
      "source": [
        "#End of HW #1\n",
        "---\n",
        "© 2024 CPS*3320, Kean University"
      ],
      "metadata": {
        "id": "7dzC09dLlEhm"
      }
    }
  ]
}